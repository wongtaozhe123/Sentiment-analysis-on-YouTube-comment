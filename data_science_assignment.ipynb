{
  "nbformat": 4,
  "nbformat_minor": 0,
  "metadata": {
    "colab": {
      "name": "data science assignment.ipynb",
      "provenance": [],
      "collapsed_sections": []
    },
    "kernelspec": {
      "name": "python3",
      "display_name": "Python 3"
    }
  },
  "cells": [
    {
      "cell_type": "markdown",
      "metadata": {
        "id": "jN3bEtMDTm-Y",
        "colab_type": "text"
      },
      "source": [
        "# A. Business understanding\n",
        "**Sentiment Analysis of Youtube Video Trend based on Comments from Viewers for Future Video-making Decision**<br>\n",
        "\t&nbsp;&nbsp;&nbsp;&nbsp;&nbsp;&nbsp;YouTube is the current most popular and active video sharing platform for all groups of users from around the world (Leskin, 2020). Attracting about 44% of all internet users and responsible for 37% of all mobile internet traffic, YouTube is indisputably the one of the most popular website used and visited by all people for purposes such as entertainment, educational, gaming, etc. According to statistics shown by the Omnicore healthcare digital advertising and marketing agency, YouTube is currently home to around 31 million YouTube channels, with more than 1 billion hours of YouTube content being watched every day. Making it the second most visited website and second largest search engine in the world.<br>\n",
        "\t&nbsp;&nbsp;&nbsp;&nbsp;&nbsp;&nbsp;In the year 2005, YouTube was founded by 3 PayPal employees under the registered domain name “www.youtube.com” (Leskin, 2020). In December 2007, YouTube officially launched the partner program that started the trend or occupation called content creator or YouTuber earning based on ad revenue. In less than a year, certain successful YouTubers have earned a staggering 6 figure income. In April 2010, YouTuber Felix Kjellberg joined YouTube with his channel named PewDiePie which is currently the most subscribed solo creator on YouTube today (Leskin, 2020).<br>\n",
        "\t&nbsp;&nbsp;&nbsp;&nbsp;&nbsp;&nbsp;With such impressive numbers and statistics throughout the year since its launching, the YouTube algorithm has evolved throughout the time to attract and maintain its audience (Chi, 2019). In 2005 - 2012, YouTube recommended video based on number of clicks. However, from the year 2012 YouTube has added a new feature on its algorithm which takes into account identifying videos people would like to watch by calculating the view duration of videos (Cooper, 2020). From the year 2016, machine learning has been introduced to develop a better video recommender system.<br><br>\n",
        "\n",
        "<u>Problem statement</u><br>\n",
        "\t&nbsp;&nbsp;&nbsp;&nbsp;&nbsp;&nbsp;Video quality is often determined by the positive comments in the video, as it will lead to a positive video popularity increment and a healthy Youtube channel growth, which improves the YouTuber reputation. If a video receives a majority of positive comments it means that the video is well received by the general user standpoint hence determines the current trend of the Youtube video genre. However, sometimes YouTubers find it to be difficult to know the current video trends, they wish to know which kind of videos to be produced in order to catch the user's attention. \n",
        "\n",
        "<u>Objective</u><br>\n",
        "\t&nbsp;&nbsp;&nbsp;&nbsp;&nbsp;&nbsp;To determine the comments whether it is a positive or negative remark.\n",
        "To determine the types of video that the youtuber is supposed to be focusing on.\n",
        "To make a sentiment analysis algorithm that could be used by all youtubers.\n",
        "\n",
        "<u>Proposed Solution</u><br>\n",
        "\t&nbsp;&nbsp;&nbsp;&nbsp;&nbsp;&nbsp;We will like to collect the YouTuber’s video data to analyze it. From there, we will  predict the current video trend based on the comments and help YouTubers to determine what video genre should be chosen in order to produce videos that attract viewers with positive comment remarks.\n",
        "The overall idea of using comments to determine the video-making decision has its own perk. So assuming if we only take account of the number of the viewers and invest productions on video categories where the number of viewers are the highest, it doesn’t means that the video is well-received by viewers nor they are happy about the content, (the number of the view counts does not directly means they like the video, because the viewers might just click into the video and watch only for a few seconds before closing the video as the video might be mass shared into media) as they might be potentially has more dislikes and bad review comments about it and the video is simply just reshare again and again. But, if we are able to determine the sentiment of the viewer through the comments we will be able to capture the user's emotions and produce a better video that is positively accepted by the viewers.\n",
        "Therefore, we propose a sentiment analysis algorithm to solve the problem that is faced by the YouTuber.\n"
      ]
    },
    {
      "cell_type": "code",
      "metadata": {
        "id": "ziltYNxMrv9N",
        "colab_type": "code",
        "colab": {
          "base_uri": "https://localhost:8080/",
          "height": 125
        },
        "outputId": "c2143187-78fe-4c97-b9be-eab3b07457cd"
      },
      "source": [
        "%matplotlib inline\n",
        "import matplotlib.pyplot as plt\n",
        "import seaborn as sns\n",
        "import pandas as pd\n",
        "import numpy as np\n",
        "import sklearn.model_selection as model_selection\n",
        "import nltk\n",
        "nltk.download('vader_lexicon')\n",
        "from nltk.sentiment.vader import SentimentIntensityAnalyzer\n",
        "from sklearn.feature_extraction.text import CountVectorizer\n",
        "from sklearn.naive_bayes import MultinomialNB\n",
        "from sklearn.metrics import confusion_matrix, classification_report\n",
        "from sklearn import datasets, linear_model\n",
        "from sklearn.metrics import mean_squared_error, r2_score"
      ],
      "execution_count": null,
      "outputs": [
        {
          "output_type": "stream",
          "text": [
            "/usr/local/lib/python3.6/dist-packages/statsmodels/tools/_testing.py:19: FutureWarning: pandas.util.testing is deprecated. Use the functions in the public API at pandas.testing instead.\n",
            "  import pandas.util.testing as tm\n"
          ],
          "name": "stderr"
        },
        {
          "output_type": "stream",
          "text": [
            "[nltk_data] Downloading package vader_lexicon to /root/nltk_data...\n"
          ],
          "name": "stdout"
        },
        {
          "output_type": "stream",
          "text": [
            "/usr/local/lib/python3.6/dist-packages/nltk/twitter/__init__.py:20: UserWarning: The twython library has not been installed. Some functionality from the twitter package will not be available.\n",
            "  warnings.warn(\"The twython library has not been installed. \"\n"
          ],
          "name": "stderr"
        }
      ]
    },
    {
      "cell_type": "code",
      "metadata": {
        "id": "t0vJCE-1yTmy",
        "colab_type": "code",
        "colab": {
          "base_uri": "https://localhost:8080/",
          "height": 125
        },
        "outputId": "36d356fb-e1f2-40e6-9ccd-024b742d6c7e"
      },
      "source": [
        "from google.colab import drive\n",
        "drive.mount('/content/drive')"
      ],
      "execution_count": null,
      "outputs": [
        {
          "output_type": "stream",
          "text": [
            "Go to this URL in a browser: https://accounts.google.com/o/oauth2/auth?client_id=947318989803-6bn6qk8qdgf4n4g3pfee6491hc0brc4i.apps.googleusercontent.com&redirect_uri=urn%3aietf%3awg%3aoauth%3a2.0%3aoob&scope=email%20https%3a%2f%2fwww.googleapis.com%2fauth%2fdocs.test%20https%3a%2f%2fwww.googleapis.com%2fauth%2fdrive%20https%3a%2f%2fwww.googleapis.com%2fauth%2fdrive.photos.readonly%20https%3a%2f%2fwww.googleapis.com%2fauth%2fpeopleapi.readonly&response_type=code\n",
            "\n",
            "Enter your authorization code:\n",
            "··········\n",
            "Mounted at /content/drive\n"
          ],
          "name": "stdout"
        }
      ]
    },
    {
      "cell_type": "markdown",
      "metadata": {
        "id": "s5a78Uk4KYSk",
        "colab_type": "text"
      },
      "source": [
        "**Import CSV file downloaded from Kaggle**<br>\n",
        "Files used:<br>\n",
        "1. UScomments.csv<br>\n",
        "2. USvideos.csv<br>\n",
        "\n",
        "Available at: https://www.kaggle.com/datasnaek/youtube?select=UScomments.csv"
      ]
    },
    {
      "cell_type": "code",
      "metadata": {
        "id": "m-U5TddUzCyg",
        "colab_type": "code",
        "colab": {
          "base_uri": "https://localhost:8080/",
          "height": 142
        },
        "outputId": "1c7f727d-18a4-41e4-87e0-4f2538688910"
      },
      "source": [
        "comments = pd.read_csv('/content/drive/Shared drives/Data science/UScomments.csv', error_bad_lines = False)\n",
        "videos = pd.read_csv('/content/drive/Shared drives/Data science/USvideos.csv', error_bad_lines = False)\n",
        "comments.set_index(\"video_id\", inplace = True)\n",
        "videos.set_index(\"title\", inplace = True)"
      ],
      "execution_count": null,
      "outputs": [
        {
          "output_type": "stream",
          "text": [
            "b'Skipping line 41589: expected 4 fields, saw 11\\nSkipping line 51628: expected 4 fields, saw 7\\nSkipping line 114465: expected 4 fields, saw 5\\n'\n",
            "b'Skipping line 142496: expected 4 fields, saw 8\\nSkipping line 189732: expected 4 fields, saw 6\\nSkipping line 245218: expected 4 fields, saw 7\\n'\n",
            "b'Skipping line 388430: expected 4 fields, saw 5\\n'\n",
            "/usr/local/lib/python3.6/dist-packages/IPython/core/interactiveshell.py:2718: DtypeWarning: Columns (2,3) have mixed types.Specify dtype option on import or set low_memory=False.\n",
            "  interactivity=interactivity, compiler=compiler, result=result)\n",
            "b'Skipping line 2401: expected 11 fields, saw 21\\nSkipping line 2800: expected 11 fields, saw 21\\nSkipping line 5297: expected 11 fields, saw 12\\nSkipping line 5299: expected 11 fields, saw 12\\nSkipping line 5300: expected 11 fields, saw 12\\nSkipping line 5301: expected 11 fields, saw 12\\n'\n"
          ],
          "name": "stderr"
        }
      ]
    },
    {
      "cell_type": "markdown",
      "metadata": {
        "id": "c_puafOrrc3C",
        "colab_type": "text"
      },
      "source": [
        "# B. Data Understanding<br>\n",
        "&nbsp;&nbsp;&nbsp;&nbsp;&nbsp;&nbsp;The dataset is to be retrieved from Kaggle and be implemented into our selected model, which comprises columns such as category id, views, video likes, video dislikes, comment total, date, video id, title, channel title, tags, thumbnail, comment text, replies, scores, compound, comp score. <br>\n",
        "&nbsp;&nbsp;&nbsp;&nbsp;&nbsp;&nbsp;To achieve the objective of the project, only a selected fews of data are being used, which are category id, comment total, date, comment text, compound, comp score.<br><br>\n",
        "\n",
        "\n",
        "\n",
        "category id: Video genre identified by numeric order.<br>\n",
        "date: The date of the video uploaded to the channel.<br>\n",
        "comment text: Comments given by the viewers to the video directly.<br>\n",
        "compound: Computed by normalizing the scores(negative, neutral, positive)<br>\n",
        "comp score: A metric that calculates the sum of all the lexicon ratings which has been normalized between -1(extreme negative) and +1(extreme positive)<br>\n"
      ]
    },
    {
      "cell_type": "markdown",
      "metadata": {
        "id": "MoiXpBsuVBam",
        "colab_type": "text"
      },
      "source": [
        "# C. Data Pre-processing<br>\n",
        "1. Rename columns title properly and drop unnecessary columns<br>\n",
        "2. Drop rows with null values<br>\n",
        "3. To remove duplicate rows and keep the latest(most recent) row of data based on date<br>\n",
        "4. Combine data in both csv file based on video_id<br>\n",
        "5. Create dataframe for data only for testing<br>\n",
        "5. Partition into training and testing dataset based on number of videos, 70% of videos, their comments are used for training, 30% for testing<br>"
      ]
    },
    {
      "cell_type": "code",
      "metadata": {
        "id": "nUsUUT20OLmG",
        "colab_type": "code",
        "colab": {}
      },
      "source": [
        "# properly rename columns and drop unnecessary columns\n",
        "comments.rename(columns={'likes':'comment_likes','replies':'comments_replies'},inplace=True)\n",
        "videos.rename(columns={'likes':'video_likes','dislikes':'video_dislikes'},inplace=True)\n",
        "\n",
        "# drop rows with null values\n",
        "comments=comments.dropna(how='any',axis=0)\n",
        "\n",
        "# remove duplicates\n",
        "videos.drop_duplicates(subset='video_id',keep='last',inplace=True)\n",
        "\n",
        "# combine data in both csv file\n",
        "combineTable=pd.merge(comments,videos,how='outer',on=['video_id'])\n",
        "\n",
        "# dataframe for testing data\n",
        "testData=combineTable[['video_id','category_id','comment_text','video_likes']]\n",
        "testData=testData.dropna(how='any',axis=0)\n",
        "\n",
        "# partition into testing and training\n",
        "a=testData['video_id'].unique()\n",
        "index=0\n",
        "for x in range(len(testData)):\n",
        "  index+=1\n",
        "  if(testData.iloc[x,0]==a[int((len(a)*0.7))] and testData.iloc[x,0]!=a[int((len(a)*0.7)+1)]):\n",
        "    break\n",
        "index=1-(index/len(testData))\n",
        "\n",
        "X = testData\n",
        "X_train, X_test = model_selection.train_test_split(X, train_size = 1-index, test_size = index)\n",
        "X_train = np.array(X_train)\n",
        "X_train = pd.DataFrame(X_train,columns=['video_id','category_id','Comment','video_likes'])\n",
        "X_test = np.array(X_test)\n",
        "X_test = pd.DataFrame(X_test,columns=['video_id','category_id','Comment','video_likes'])"
      ],
      "execution_count": null,
      "outputs": []
    },
    {
      "cell_type": "code",
      "metadata": {
        "id": "E3jmoVc9zIHT",
        "colab_type": "code",
        "colab": {
          "base_uri": "https://localhost:8080/",
          "height": 284
        },
        "outputId": "211824f5-369d-485d-ef81-c3a72842cf1f"
      },
      "source": [
        "combineTable.describe()"
      ],
      "execution_count": null,
      "outputs": [
        {
          "output_type": "execute_result",
          "data": {
            "text/html": [
              "<div>\n",
              "<style scoped>\n",
              "    .dataframe tbody tr th:only-of-type {\n",
              "        vertical-align: middle;\n",
              "    }\n",
              "\n",
              "    .dataframe tbody tr th {\n",
              "        vertical-align: top;\n",
              "    }\n",
              "\n",
              "    .dataframe thead th {\n",
              "        text-align: right;\n",
              "    }\n",
              "</style>\n",
              "<table border=\"1\" class=\"dataframe\">\n",
              "  <thead>\n",
              "    <tr style=\"text-align: right;\">\n",
              "      <th></th>\n",
              "      <th>category_id</th>\n",
              "      <th>views</th>\n",
              "      <th>video_likes</th>\n",
              "      <th>video_dislikes</th>\n",
              "      <th>comment_total</th>\n",
              "      <th>date</th>\n",
              "    </tr>\n",
              "  </thead>\n",
              "  <tbody>\n",
              "    <tr>\n",
              "      <th>count</th>\n",
              "      <td>691473.000000</td>\n",
              "      <td>6.914730e+05</td>\n",
              "      <td>6.914730e+05</td>\n",
              "      <td>691473.000000</td>\n",
              "      <td>691473.000000</td>\n",
              "      <td>691473.000000</td>\n",
              "    </tr>\n",
              "    <tr>\n",
              "      <th>mean</th>\n",
              "      <td>20.219941</td>\n",
              "      <td>1.297757e+06</td>\n",
              "      <td>4.494631e+04</td>\n",
              "      <td>2369.918969</td>\n",
              "      <td>5680.505639</td>\n",
              "      <td>16.781224</td>\n",
              "    </tr>\n",
              "    <tr>\n",
              "      <th>std</th>\n",
              "      <td>7.359131</td>\n",
              "      <td>2.779811e+06</td>\n",
              "      <td>1.091876e+05</td>\n",
              "      <td>13433.064074</td>\n",
              "      <td>24494.675583</td>\n",
              "      <td>7.706475</td>\n",
              "    </tr>\n",
              "    <tr>\n",
              "      <th>min</th>\n",
              "      <td>1.000000</td>\n",
              "      <td>0.000000e+00</td>\n",
              "      <td>0.000000e+00</td>\n",
              "      <td>0.000000</td>\n",
              "      <td>0.000000</td>\n",
              "      <td>1.100000</td>\n",
              "    </tr>\n",
              "    <tr>\n",
              "      <th>25%</th>\n",
              "      <td>17.000000</td>\n",
              "      <td>1.816110e+05</td>\n",
              "      <td>4.381000e+03</td>\n",
              "      <td>137.000000</td>\n",
              "      <td>542.000000</td>\n",
              "      <td>11.100000</td>\n",
              "    </tr>\n",
              "    <tr>\n",
              "      <th>50%</th>\n",
              "      <td>23.000000</td>\n",
              "      <td>4.661450e+05</td>\n",
              "      <td>1.305000e+04</td>\n",
              "      <td>454.000000</td>\n",
              "      <td>1548.000000</td>\n",
              "      <td>18.100000</td>\n",
              "    </tr>\n",
              "    <tr>\n",
              "      <th>75%</th>\n",
              "      <td>25.000000</td>\n",
              "      <td>1.353041e+06</td>\n",
              "      <td>4.112200e+04</td>\n",
              "      <td>1416.000000</td>\n",
              "      <td>4364.000000</td>\n",
              "      <td>22.100000</td>\n",
              "    </tr>\n",
              "    <tr>\n",
              "      <th>max</th>\n",
              "      <td>43.000000</td>\n",
              "      <td>4.150067e+07</td>\n",
              "      <td>2.010366e+06</td>\n",
              "      <td>318404.000000</td>\n",
              "      <td>736179.000000</td>\n",
              "      <td>30.090000</td>\n",
              "    </tr>\n",
              "  </tbody>\n",
              "</table>\n",
              "</div>"
            ],
            "text/plain": [
              "         category_id         views  ...  comment_total           date\n",
              "count  691473.000000  6.914730e+05  ...  691473.000000  691473.000000\n",
              "mean       20.219941  1.297757e+06  ...    5680.505639      16.781224\n",
              "std         7.359131  2.779811e+06  ...   24494.675583       7.706475\n",
              "min         1.000000  0.000000e+00  ...       0.000000       1.100000\n",
              "25%        17.000000  1.816110e+05  ...     542.000000      11.100000\n",
              "50%        23.000000  4.661450e+05  ...    1548.000000      18.100000\n",
              "75%        25.000000  1.353041e+06  ...    4364.000000      22.100000\n",
              "max        43.000000  4.150067e+07  ...  736179.000000      30.090000\n",
              "\n",
              "[8 rows x 6 columns]"
            ]
          },
          "metadata": {
            "tags": []
          },
          "execution_count": 5
        }
      ]
    },
    {
      "cell_type": "markdown",
      "metadata": {
        "id": "mU2kr6pw9t4a",
        "colab_type": "text"
      },
      "source": [
        "# D. Modelling<br>\n",
        "***We are using:***<br> \n",
        "**Text Sentiment Analysis using VADER (Valence Aware Dictionary and Sentiment Reasoner)**<br>\n",
        "VADER analysis is a lexicon and rule-based sentinent analysis tool, it is done by counting number of positive and negative words in a sentence to analyze and determine the overall compound score of the sentence<br>\n",
        "**Reason for choosing VADER:**<br>\n",
        "VADER analysis is specifically used in the context of sentiments/emotions expression and also widely used in analyzing movie/product review, social media texts etc. Besides that, VADER also take into accounts of emojis, acronyms (LOL, ASAP, etc), and emoticons such as :( and :-D This is particularly useful as the current generations frequently used all these informal way to expressed their emotions. Hence, based on the capabilities mention above, VADER is excellent in analyzing social media sentiment and thus we will use it to analyze on YouTube comments."
      ]
    },
    {
      "cell_type": "code",
      "metadata": {
        "id": "ys8N64dWub1A",
        "colab_type": "code",
        "colab": {
          "base_uri": "https://localhost:8080/",
          "height": 402
        },
        "outputId": "cc1efc88-7030-458a-8753-2723dcbeb907"
      },
      "source": [
        "sid = SentimentIntensityAnalyzer()\n",
        "\n",
        "scores_train = X_train.Comment.apply(lambda x: sid.polarity_scores(x))\n",
        "compound_train  = scores_train.apply(lambda score_dict: score_dict['compound'])\n",
        "y_train = compound_train.apply(lambda c: 'pos' if c >=0.05 else ('neg' if c <=-0.05 else 'neu'))\n",
        "y_train = pd.Series(y_train)\n",
        "\n",
        "train = {'Comment': X_train.Comment, 'Category ID': X_train.category_id}\n",
        "train_data = pd.DataFrame(train)\n",
        "\n",
        "train_data['neg'] = [sid.polarity_scores(x)['neg'] for x in train['Comment']]\n",
        "train_data['neu'] = [sid.polarity_scores(x)['neu'] for x in train['Comment']]\n",
        "train_data['pos'] = [sid.polarity_scores(x)['pos'] for x in train['Comment']]\n",
        "train_data['Compound'] = compound_train\n",
        "train_data['Compound Score'] = y_train\n",
        "\n",
        "train_data"
      ],
      "execution_count": null,
      "outputs": [
        {
          "output_type": "execute_result",
          "data": {
            "text/html": [
              "<div>\n",
              "<style scoped>\n",
              "    .dataframe tbody tr th:only-of-type {\n",
              "        vertical-align: middle;\n",
              "    }\n",
              "\n",
              "    .dataframe tbody tr th {\n",
              "        vertical-align: top;\n",
              "    }\n",
              "\n",
              "    .dataframe thead th {\n",
              "        text-align: right;\n",
              "    }\n",
              "</style>\n",
              "<table border=\"1\" class=\"dataframe\">\n",
              "  <thead>\n",
              "    <tr style=\"text-align: right;\">\n",
              "      <th></th>\n",
              "      <th>Comment</th>\n",
              "      <th>Category ID</th>\n",
              "      <th>neg</th>\n",
              "      <th>neu</th>\n",
              "      <th>pos</th>\n",
              "      <th>Compound</th>\n",
              "      <th>Compound Score</th>\n",
              "    </tr>\n",
              "  </thead>\n",
              "  <tbody>\n",
              "    <tr>\n",
              "      <th>0</th>\n",
              "      <td>Якi прыгожы сюжэт! \\n\\nЭмацыянальная музыка на...</td>\n",
              "      <td>22</td>\n",
              "      <td>0.000</td>\n",
              "      <td>1.000</td>\n",
              "      <td>0.000</td>\n",
              "      <td>0.0000</td>\n",
              "      <td>neu</td>\n",
              "    </tr>\n",
              "    <tr>\n",
              "      <th>1</th>\n",
              "      <td>I love crowder! But I don't like this song. To...</td>\n",
              "      <td>10</td>\n",
              "      <td>0.135</td>\n",
              "      <td>0.577</td>\n",
              "      <td>0.288</td>\n",
              "      <td>0.5239</td>\n",
              "      <td>pos</td>\n",
              "    </tr>\n",
              "    <tr>\n",
              "      <th>2</th>\n",
              "      <td>Awwww \\n*Congratulations!*\\nSuch a lovely fami...</td>\n",
              "      <td>22</td>\n",
              "      <td>0.000</td>\n",
              "      <td>0.652</td>\n",
              "      <td>0.348</td>\n",
              "      <td>0.8962</td>\n",
              "      <td>pos</td>\n",
              "    </tr>\n",
              "    <tr>\n",
              "      <th>3</th>\n",
              "      <td>I don't suffer from depression, but I know a l...</td>\n",
              "      <td>22</td>\n",
              "      <td>0.106</td>\n",
              "      <td>0.670</td>\n",
              "      <td>0.224</td>\n",
              "      <td>0.8380</td>\n",
              "      <td>pos</td>\n",
              "    </tr>\n",
              "    <tr>\n",
              "      <th>4</th>\n",
              "      <td>THIS IS PRACTICALLY LANA DEL REY IN MOVIE FORM!</td>\n",
              "      <td>1</td>\n",
              "      <td>0.000</td>\n",
              "      <td>1.000</td>\n",
              "      <td>0.000</td>\n",
              "      <td>0.0000</td>\n",
              "      <td>neu</td>\n",
              "    </tr>\n",
              "    <tr>\n",
              "      <th>...</th>\n",
              "      <td>...</td>\n",
              "      <td>...</td>\n",
              "      <td>...</td>\n",
              "      <td>...</td>\n",
              "      <td>...</td>\n",
              "      <td>...</td>\n",
              "      <td>...</td>\n",
              "    </tr>\n",
              "    <tr>\n",
              "      <th>484748</th>\n",
              "      <td>Money talks, pedophiles walk. That's the way i...</td>\n",
              "      <td>25</td>\n",
              "      <td>0.000</td>\n",
              "      <td>1.000</td>\n",
              "      <td>0.000</td>\n",
              "      <td>0.0000</td>\n",
              "      <td>neu</td>\n",
              "    </tr>\n",
              "    <tr>\n",
              "      <th>484749</th>\n",
              "      <td>Wait she has a YouTube 😩</td>\n",
              "      <td>1</td>\n",
              "      <td>0.000</td>\n",
              "      <td>1.000</td>\n",
              "      <td>0.000</td>\n",
              "      <td>0.0000</td>\n",
              "      <td>neu</td>\n",
              "    </tr>\n",
              "    <tr>\n",
              "      <th>484750</th>\n",
              "      <td>Pretty awesome catch. \\n\\nI know everyone’s jo...</td>\n",
              "      <td>22</td>\n",
              "      <td>0.177</td>\n",
              "      <td>0.596</td>\n",
              "      <td>0.227</td>\n",
              "      <td>-0.1655</td>\n",
              "      <td>neg</td>\n",
              "    </tr>\n",
              "    <tr>\n",
              "      <th>484751</th>\n",
              "      <td>Who else were trying to get the correct answer...</td>\n",
              "      <td>22</td>\n",
              "      <td>0.000</td>\n",
              "      <td>1.000</td>\n",
              "      <td>0.000</td>\n",
              "      <td>0.0000</td>\n",
              "      <td>neu</td>\n",
              "    </tr>\n",
              "    <tr>\n",
              "      <th>484752</th>\n",
              "      <td>Damnit jerry, when you place the sponge block.</td>\n",
              "      <td>22</td>\n",
              "      <td>0.512</td>\n",
              "      <td>0.488</td>\n",
              "      <td>0.000</td>\n",
              "      <td>-0.7430</td>\n",
              "      <td>neg</td>\n",
              "    </tr>\n",
              "  </tbody>\n",
              "</table>\n",
              "<p>484753 rows × 7 columns</p>\n",
              "</div>"
            ],
            "text/plain": [
              "                                                  Comment  ... Compound Score\n",
              "0       Якi прыгожы сюжэт! \\n\\nЭмацыянальная музыка на...  ...            neu\n",
              "1       I love crowder! But I don't like this song. To...  ...            pos\n",
              "2       Awwww \\n*Congratulations!*\\nSuch a lovely fami...  ...            pos\n",
              "3       I don't suffer from depression, but I know a l...  ...            pos\n",
              "4         THIS IS PRACTICALLY LANA DEL REY IN MOVIE FORM!  ...            neu\n",
              "...                                                   ...  ...            ...\n",
              "484748  Money talks, pedophiles walk. That's the way i...  ...            neu\n",
              "484749                           Wait she has a YouTube 😩  ...            neu\n",
              "484750  Pretty awesome catch. \\n\\nI know everyone’s jo...  ...            neg\n",
              "484751  Who else were trying to get the correct answer...  ...            neu\n",
              "484752     Damnit jerry, when you place the sponge block.  ...            neg\n",
              "\n",
              "[484753 rows x 7 columns]"
            ]
          },
          "metadata": {
            "tags": []
          },
          "execution_count": 6
        }
      ]
    },
    {
      "cell_type": "code",
      "metadata": {
        "id": "UcPl33eblW0v",
        "colab_type": "code",
        "colab": {
          "base_uri": "https://localhost:8080/",
          "height": 402
        },
        "outputId": "91d7405b-883a-4c4e-aa2d-87bf04c6d823"
      },
      "source": [
        "scores_test = X_test.Comment.apply(lambda x: sid.polarity_scores(x))\n",
        "compound_test  = scores_test.apply(lambda score_dict: score_dict['compound'])\n",
        "y_test = compound_test.apply(lambda c: 'pos' if c >=0.05 else ('neg' if c <=-0.05 else 'neu'))\n",
        "y_test = pd.Series(y_test)\n",
        "\n",
        "test = {'Comment': X_test.Comment, 'Category ID': X_test.category_id} \n",
        "test_data = pd.DataFrame(test)\n",
        "\n",
        "test_data['neg'] = [sid.polarity_scores(x)['neg'] for x in test['Comment']]\n",
        "test_data['neu'] = [sid.polarity_scores(x)['neu'] for x in test['Comment']]\n",
        "test_data['pos'] = [sid.polarity_scores(x)['pos'] for x in test['Comment']]\n",
        "test_data['Compound'] = compound_test\n",
        "test_data['Compound Score'] = y_test\n",
        "\n",
        "test_data"
      ],
      "execution_count": null,
      "outputs": [
        {
          "output_type": "execute_result",
          "data": {
            "text/html": [
              "<div>\n",
              "<style scoped>\n",
              "    .dataframe tbody tr th:only-of-type {\n",
              "        vertical-align: middle;\n",
              "    }\n",
              "\n",
              "    .dataframe tbody tr th {\n",
              "        vertical-align: top;\n",
              "    }\n",
              "\n",
              "    .dataframe thead th {\n",
              "        text-align: right;\n",
              "    }\n",
              "</style>\n",
              "<table border=\"1\" class=\"dataframe\">\n",
              "  <thead>\n",
              "    <tr style=\"text-align: right;\">\n",
              "      <th></th>\n",
              "      <th>Comment</th>\n",
              "      <th>Category ID</th>\n",
              "      <th>neg</th>\n",
              "      <th>neu</th>\n",
              "      <th>pos</th>\n",
              "      <th>Compound</th>\n",
              "      <th>Compound Score</th>\n",
              "    </tr>\n",
              "  </thead>\n",
              "  <tbody>\n",
              "    <tr>\n",
              "      <th>0</th>\n",
              "      <td>💓💓💓💓💓💓💓💓💓</td>\n",
              "      <td>10</td>\n",
              "      <td>0.000</td>\n",
              "      <td>1.000</td>\n",
              "      <td>0.000</td>\n",
              "      <td>0.0000</td>\n",
              "      <td>neu</td>\n",
              "    </tr>\n",
              "    <tr>\n",
              "      <th>1</th>\n",
              "      <td>When you realised the first guy in the video i...</td>\n",
              "      <td>25</td>\n",
              "      <td>0.000</td>\n",
              "      <td>1.000</td>\n",
              "      <td>0.000</td>\n",
              "      <td>0.0000</td>\n",
              "      <td>neu</td>\n",
              "    </tr>\n",
              "    <tr>\n",
              "      <th>2</th>\n",
              "      <td>Are we sure this isn't a comedy skit??</td>\n",
              "      <td>22</td>\n",
              "      <td>0.216</td>\n",
              "      <td>0.512</td>\n",
              "      <td>0.272</td>\n",
              "      <td>0.1406</td>\n",
              "      <td>pos</td>\n",
              "    </tr>\n",
              "    <tr>\n",
              "      <th>3</th>\n",
              "      <td>lol!!! i love how he shouts out Whaaat?!!! and...</td>\n",
              "      <td>23</td>\n",
              "      <td>0.000</td>\n",
              "      <td>0.373</td>\n",
              "      <td>0.627</td>\n",
              "      <td>0.9147</td>\n",
              "      <td>pos</td>\n",
              "    </tr>\n",
              "    <tr>\n",
              "      <th>4</th>\n",
              "      <td>Fucking this isnt buzzfeed unsolved. More like...</td>\n",
              "      <td>17</td>\n",
              "      <td>0.267</td>\n",
              "      <td>0.524</td>\n",
              "      <td>0.209</td>\n",
              "      <td>-0.1952</td>\n",
              "      <td>neg</td>\n",
              "    </tr>\n",
              "    <tr>\n",
              "      <th>...</th>\n",
              "      <td>...</td>\n",
              "      <td>...</td>\n",
              "      <td>...</td>\n",
              "      <td>...</td>\n",
              "      <td>...</td>\n",
              "      <td>...</td>\n",
              "      <td>...</td>\n",
              "    </tr>\n",
              "    <tr>\n",
              "      <th>206617</th>\n",
              "      <td>R\\nO\\nB\\nI\\nN\\nRead more\\nW\\nI\\nL\\nL\\nI\\nA\\nM\\...</td>\n",
              "      <td>22</td>\n",
              "      <td>0.000</td>\n",
              "      <td>0.345</td>\n",
              "      <td>0.655</td>\n",
              "      <td>0.5859</td>\n",
              "      <td>pos</td>\n",
              "    </tr>\n",
              "    <tr>\n",
              "      <th>206618</th>\n",
              "      <td>Is Wild corn lilly also called  western false ...</td>\n",
              "      <td>27</td>\n",
              "      <td>0.000</td>\n",
              "      <td>1.000</td>\n",
              "      <td>0.000</td>\n",
              "      <td>0.0000</td>\n",
              "      <td>neu</td>\n",
              "    </tr>\n",
              "    <tr>\n",
              "      <th>206619</th>\n",
              "      <td>Another reality show make Black women look  bad</td>\n",
              "      <td>24</td>\n",
              "      <td>0.333</td>\n",
              "      <td>0.667</td>\n",
              "      <td>0.000</td>\n",
              "      <td>-0.5423</td>\n",
              "      <td>neg</td>\n",
              "    </tr>\n",
              "    <tr>\n",
              "      <th>206620</th>\n",
              "      <td>😍😍😍😍😍😍😍😍😜😜😜😜😜💏👍👍👍👌☝👅💋💞💝💣💣💣💣💣💣💥💥💥💥💥</td>\n",
              "      <td>10</td>\n",
              "      <td>0.000</td>\n",
              "      <td>1.000</td>\n",
              "      <td>0.000</td>\n",
              "      <td>0.0000</td>\n",
              "      <td>neu</td>\n",
              "    </tr>\n",
              "    <tr>\n",
              "      <th>206621</th>\n",
              "      <td>I can't believe parents allow their children t...</td>\n",
              "      <td>24</td>\n",
              "      <td>0.178</td>\n",
              "      <td>0.718</td>\n",
              "      <td>0.104</td>\n",
              "      <td>-0.2654</td>\n",
              "      <td>neg</td>\n",
              "    </tr>\n",
              "  </tbody>\n",
              "</table>\n",
              "<p>206622 rows × 7 columns</p>\n",
              "</div>"
            ],
            "text/plain": [
              "                                                  Comment  ... Compound Score\n",
              "0                                               💓💓💓💓💓💓💓💓💓  ...            neu\n",
              "1       When you realised the first guy in the video i...  ...            neu\n",
              "2                  Are we sure this isn't a comedy skit??  ...            pos\n",
              "3       lol!!! i love how he shouts out Whaaat?!!! and...  ...            pos\n",
              "4       Fucking this isnt buzzfeed unsolved. More like...  ...            neg\n",
              "...                                                   ...  ...            ...\n",
              "206617  R\\nO\\nB\\nI\\nN\\nRead more\\nW\\nI\\nL\\nL\\nI\\nA\\nM\\...  ...            pos\n",
              "206618  Is Wild corn lilly also called  western false ...  ...            neu\n",
              "206619    Another reality show make Black women look  bad  ...            neg\n",
              "206620                 😍😍😍😍😍😍😍😍😜😜😜😜😜💏👍👍👍👌☝👅💋💞💝💣💣💣💣💣💣💥💥💥💥💥  ...            neu\n",
              "206621  I can't believe parents allow their children t...  ...            neg\n",
              "\n",
              "[206622 rows x 7 columns]"
            ]
          },
          "metadata": {
            "tags": []
          },
          "execution_count": 9
        }
      ]
    },
    {
      "cell_type": "markdown",
      "metadata": {
        "id": "knMcK-kXNYSb",
        "colab_type": "text"
      },
      "source": [
        "**Feature Extraction (Vectorization)**<br>\n",
        "\n",
        "In order to get a more accurate results from predictive modelling, the comments must be parsed to remove some unnecessary words. This process is known as tokenization. The words then obtained from tokenization are to be encoded as integers, or floating point values as inputs for the machine learning algorithms. This process of encoding is known as feature extraction (vectorization).<br>\n",
        "\n",
        "CountVectorizer in Scikit-learn is utilized to convert the words from texts/documents to a vector of token counts. It also allows the text data to be pre-processed before generating the vector representation."
      ]
    },
    {
      "cell_type": "code",
      "metadata": {
        "id": "8H_T7yn8uPUy",
        "colab_type": "code",
        "colab": {}
      },
      "source": [
        "vect = CountVectorizer(max_features=1000, binary=True)\n",
        "\n",
        "X_train_vect = vect.fit_transform(X_train.Comment)"
      ],
      "execution_count": null,
      "outputs": []
    },
    {
      "cell_type": "markdown",
      "metadata": {
        "id": "_dUYSA3vQxPt",
        "colab_type": "text"
      },
      "source": [
        "**Balancing Data**<br>\n",
        "\n",
        "In order to come to a decision on whether the data need to be balanced, each category (positive, negative, neutral) of the data is counted. The highest count is then used in order to estimate the prediction accuracy."
      ]
    },
    {
      "cell_type": "code",
      "metadata": {
        "id": "m18hyCO3sCSK",
        "colab_type": "code",
        "colab": {
          "base_uri": "https://localhost:8080/",
          "height": 118
        },
        "outputId": "88826dab-685c-4ee8-d700-8f2f20a7626b"
      },
      "source": [
        "counts = y_train.value_counts()\n",
        "print(counts)\n",
        "print(\"\\nPredicting only pos = {:.2f}% accuracy\".format(counts['pos'] / sum(counts) * 100))"
      ],
      "execution_count": null,
      "outputs": [
        {
          "output_type": "stream",
          "text": [
            "pos    218142\n",
            "neu    168810\n",
            "neg     97801\n",
            "Name: Comment, dtype: int64\n",
            "\n",
            "Predicting only pos = 45.00% accuracy\n"
          ],
          "name": "stdout"
        }
      ]
    },
    {
      "cell_type": "markdown",
      "metadata": {
        "id": "oIYq5uUqRaPQ",
        "colab_type": "text"
      },
      "source": [
        "After obtaining the data count for each category, it can be seen that the data are clearly imbalanced as there are more positive data compared to negative ones. The data is balanced using a form of oversampling called SMOTE. SMOTE looks at the minor class and creates new, synthetic training examples.\n",
        "\n",
        "Take note that we only oversample the train data as that is the data we are going to use in order to train our model."
      ]
    },
    {
      "cell_type": "code",
      "metadata": {
        "id": "b3efjhSCsb05",
        "colab_type": "code",
        "colab": {
          "base_uri": "https://localhost:8080/",
          "height": 154
        },
        "outputId": "81b9b042-2117-4603-9562-55c7394d5178"
      },
      "source": [
        "from imblearn.over_sampling import SMOTE\n",
        "\n",
        "sm = SMOTE()\n",
        "\n",
        "X_train_res, y_train_res = sm.fit_sample(X_train_vect, y_train)\n",
        "\n",
        "unique, counts = np.unique(y_train_res, return_counts=True)\n",
        "print(list(zip(unique, counts)))"
      ],
      "execution_count": null,
      "outputs": [
        {
          "output_type": "stream",
          "text": [
            "/usr/local/lib/python3.6/dist-packages/sklearn/externals/six.py:31: FutureWarning: The module is deprecated in version 0.21 and will be removed in version 0.23 since we've dropped support for Python 2.7. Please rely on the official version of six (https://pypi.org/project/six/).\n",
            "  \"(https://pypi.org/project/six/).\", FutureWarning)\n",
            "/usr/local/lib/python3.6/dist-packages/sklearn/utils/deprecation.py:144: FutureWarning: The sklearn.neighbors.base module is  deprecated in version 0.22 and will be removed in version 0.24. The corresponding classes / functions should instead be imported from sklearn.neighbors. Anything that cannot be imported from sklearn.neighbors is now part of the private API.\n",
            "  warnings.warn(message, FutureWarning)\n",
            "/usr/local/lib/python3.6/dist-packages/sklearn/utils/deprecation.py:87: FutureWarning: Function safe_indexing is deprecated; safe_indexing is deprecated in version 0.22 and will be removed in version 0.24.\n",
            "  warnings.warn(msg, category=FutureWarning)\n"
          ],
          "name": "stderr"
        },
        {
          "output_type": "stream",
          "text": [
            "[('neg', 218142), ('neu', 218142), ('pos', 218142)]\n"
          ],
          "name": "stdout"
        }
      ]
    },
    {
      "cell_type": "markdown",
      "metadata": {
        "id": "zRzkA3TJTlQT",
        "colab_type": "text"
      },
      "source": [
        "**Naive Bayes**<br>\n",
        "\n",
        "The Naive Bayes classifier is a simple classifier that classifies based on probabilities of events. It is mostly used for text classification. Despite being quite simple, it performs very well on text classifications."
      ]
    },
    {
      "cell_type": "code",
      "metadata": {
        "id": "qmTMogpFs3Co",
        "colab_type": "code",
        "colab": {
          "base_uri": "https://localhost:8080/",
          "height": 34
        },
        "outputId": "60847694-151b-40a9-94da-6ff0d16b3221"
      },
      "source": [
        "nb = MultinomialNB()\n",
        "\n",
        "nb.fit(X_train_res, y_train_res)\n",
        "\n",
        "nb.score(X_train_res, y_train_res)"
      ],
      "execution_count": null,
      "outputs": [
        {
          "output_type": "execute_result",
          "data": {
            "text/plain": [
              "0.671767319758078"
            ]
          },
          "metadata": {
            "tags": []
          },
          "execution_count": 11
        }
      ]
    },
    {
      "cell_type": "markdown",
      "metadata": {
        "id": "ZfapS6myWLI8",
        "colab_type": "text"
      },
      "source": [
        "After the data has been succesfully fit into Naive Bayes, we can see the fit score. The next step is to vectorize the X_test comment dataset and apply it in the Naive Bayes algorithm. As we are avoiding any data leakage, we are only transforming the X_test comment dataset, not refitting it. On top of that, we will not be oversampling the data either."
      ]
    },
    {
      "cell_type": "code",
      "metadata": {
        "id": "Wm8GWgexWy8N",
        "colab_type": "code",
        "colab": {
          "base_uri": "https://localhost:8080/",
          "height": 34
        },
        "outputId": "a4aafcea-ec68-4958-f2fb-893c5cf3eb25"
      },
      "source": [
        "X_test_vect = vect.transform(X_test.Comment)\n",
        "\n",
        "y_pred = nb.predict(X_test_vect)\n",
        "\n",
        "y_pred"
      ],
      "execution_count": null,
      "outputs": [
        {
          "output_type": "execute_result",
          "data": {
            "text/plain": [
              "array(['neu', 'pos', 'neu', ..., 'neg', 'neg', 'pos'], dtype='<U3')"
            ]
          },
          "metadata": {
            "tags": []
          },
          "execution_count": 25
        }
      ]
    },
    {
      "cell_type": "markdown",
      "metadata": {
        "id": "zUd59lHOYHG-",
        "colab_type": "text"
      },
      "source": [
        "y_pred now consists of predictions for every row of the X_test comment dataset. The prediction results can be passed into an sklearn metric with the true labels to generate a confusion matrix and classification report (accuracy, precison, recall, F1-score).\n"
      ]
    },
    {
      "cell_type": "markdown",
      "metadata": {
        "id": "UjIGu0j0s0wz",
        "colab_type": "text"
      },
      "source": [
        "# E. Evaluation\n",
        "Confusion matrix is applied to test between y_predict obtained from Multinomial Naive Bayes classifications, and y_test obtained from VADER model."
      ]
    },
    {
      "cell_type": "code",
      "metadata": {
        "id": "ye3XcA9iLG_a",
        "colab_type": "code",
        "colab": {}
      },
      "source": [
        "def make_confusion_matrix(cf,\n",
        "                          group_names=None,\n",
        "                          categories='auto',\n",
        "                          count=True,\n",
        "                          percent=True,\n",
        "                          cbar=True,\n",
        "                          xyticks=True,\n",
        "                          xyplotlabels=True,\n",
        "                          sum_stats=True,\n",
        "                          figsize=None,\n",
        "                          cmap='Blues',\n",
        "                          title=None):\n",
        "    '''\n",
        "    This function will make a pretty plot of an sklearn Confusion Matrix cm using a Seaborn heatmap visualization.\n",
        "    Arguments\n",
        "    ---------\n",
        "    cf:            confusion matrix to be passed in\n",
        "    group_names:   List of strings that represent the labels row by row to be shown in each square.\n",
        "    categories:    List of strings containing the categories to be displayed on the x,y axis. Default is 'auto'\n",
        "    count:         If True, show the raw number in the confusion matrix. Default is True.\n",
        "    normalize:     If True, show the proportions for each category. Default is True.\n",
        "    cbar:          If True, show the color bar. The cbar values are based off the values in the confusion matrix.\n",
        "                   Default is True.\n",
        "    xyticks:       If True, show x and y ticks. Default is True.\n",
        "    xyplotlabels:  If True, show 'True Label' and 'Predicted Label' on the figure. Default is True.\n",
        "    sum_stats:     If True, display summary statistics below the figure. Default is True.\n",
        "    figsize:       Tuple representing the figure size. Default will be the matplotlib rcParams value.\n",
        "    cmap:          Colormap of the values displayed from matplotlib.pyplot.cm. Default is 'Blues'\n",
        "                   See http://matplotlib.org/examples/color/colormaps_reference.html\n",
        "                   \n",
        "    title:         Title for the heatmap. Default is None.\n",
        "    '''\n",
        "\n",
        "\n",
        "    # CODE TO GENERATE TEXT INSIDE EACH SQUARE\n",
        "    blanks = ['' for i in range(cf.size)]\n",
        "\n",
        "    if group_names and len(group_names)==cf.size:\n",
        "        group_labels = [\"{}\\n\".format(value) for value in group_names]\n",
        "    else:\n",
        "        group_labels = blanks\n",
        "\n",
        "    if count:\n",
        "        group_counts = [\"{0:0.0f}\\n\".format(value) for value in cf.flatten()]\n",
        "    else:\n",
        "        group_counts = blanks\n",
        "\n",
        "    if percent:\n",
        "        group_percentages = [\"{0:.2%}\".format(value) for value in cf.flatten()/np.sum(cf)]\n",
        "    else:\n",
        "        group_percentages = blanks\n",
        "\n",
        "    box_labels = [f\"{v1}{v2}{v3}\".strip() for v1, v2, v3 in zip(group_labels,group_counts,group_percentages)]\n",
        "    box_labels = np.asarray(box_labels).reshape(cf.shape[0],cf.shape[1])\n",
        "\n",
        "\n",
        "    # CODE TO GENERATE SUMMARY STATISTICS & TEXT FOR SUMMARY STATS\n",
        "    if sum_stats:\n",
        "        #Accuracy is sum of diagonal divided by total observations\n",
        "        accuracy  = np.trace(cf) / float(np.sum(cf))\n",
        "\n",
        "        #if it is a binary confusion matrix, show some more stats\n",
        "        if len(cf)==2:\n",
        "            #Metrics for Binary Confusion Matrices\n",
        "            precision = cf[1,1] / sum(cf[:,1])\n",
        "            recall    = cf[1,1] / sum(cf[1,:])\n",
        "            f1_score  = 2*precision*recall / (precision + recall)\n",
        "            stats_text = \"\\n\\nAccuracy={:0.3f}\\nPrecision={:0.3f}\\nRecall={:0.3f}\\nF1 Score={:0.3f}\".format(\n",
        "                accuracy,precision,recall,f1_score)\n",
        "        else:\n",
        "            stats_text = \"\\n\\nAccuracy={:0.3f}\".format(accuracy)\n",
        "    else:\n",
        "        stats_text = \"\"\n",
        "\n",
        "\n",
        "    # SET FIGURE PARAMETERS ACCORDING TO OTHER ARGUMENTS\n",
        "    if figsize==None:\n",
        "        #Get default figure size if not set\n",
        "        figsize = plt.rcParams.get('figure.figsize')\n",
        "\n",
        "    if xyticks==False:\n",
        "        #Do not show categories if xyticks is False\n",
        "        categories=False\n",
        "\n",
        "\n",
        "    # MAKE THE HEATMAP VISUALIZATION\n",
        "    plt.figure(figsize=figsize)\n",
        "    sns.heatmap(cf,annot=box_labels,fmt=\"\",cmap=cmap,cbar=cbar,xticklabels=categories,yticklabels=categories)\n",
        "\n",
        "    if xyplotlabels:\n",
        "        plt.ylabel('True label')\n",
        "        plt.xlabel('Predicted label' + stats_text)\n",
        "    else:\n",
        "        plt.xlabel(stats_text)\n",
        "    \n",
        "    if title:\n",
        "        plt.title(title)"
      ],
      "execution_count": null,
      "outputs": []
    },
    {
      "cell_type": "markdown",
      "metadata": {
        "id": "tpk7eALBtPgI",
        "colab_type": "text"
      },
      "source": [
        "**To display results of confusion matrix with heatmap graph**"
      ]
    },
    {
      "cell_type": "code",
      "metadata": {
        "id": "3CAJGAkiW2Hf",
        "colab_type": "code",
        "colab": {
          "base_uri": "https://localhost:8080/",
          "height": 589
        },
        "outputId": "fee66ab6-a060-4715-b9fc-bf6127716855"
      },
      "source": [
        "print(classification_report(y_test, y_pred))\n",
        "\n",
        "cf_matrix = confusion_matrix(y_test, y_pred)\n",
        "categories = ['Negative', 'Neutral', 'Positive']\n",
        "make_confusion_matrix(cf_matrix, group_names=labels, categories=categories, figsize=(8,6), cmap='OrRd')"
      ],
      "execution_count": null,
      "outputs": [
        {
          "output_type": "stream",
          "text": [
            "              precision    recall  f1-score   support\n",
            "\n",
            "         neg       0.45      0.71      0.55     41780\n",
            "         neu       0.74      0.59      0.66     71888\n",
            "         pos       0.85      0.77      0.81     92954\n",
            "\n",
            "    accuracy                           0.70    206622\n",
            "   macro avg       0.68      0.69      0.67    206622\n",
            "weighted avg       0.73      0.70      0.71    206622\n",
            "\n"
          ],
          "name": "stdout"
        },
        {
          "output_type": "display_data",
          "data": {
            "image/png": "[encoded data removed]",
            "text/plain": [
              "<Figure size 576x432 with 2 Axes>"
            ]
          },
          "metadata": {
            "tags": []
          }
        }
      ]
    },
    {
      "cell_type": "markdown",
      "metadata": {
        "id": "50fgVl5r0ITg",
        "colab_type": "text"
      },
      "source": [
        "After the model has been trained and tested, the next step is to deploy the model to be used by giving the model comments as input."
      ]
    },
    {
      "cell_type": "code",
      "metadata": {
        "id": "UxtZxP960MhP",
        "colab_type": "code",
        "colab": {}
      },
      "source": [
        "def predict_sentiment(a, train=train, model=nb):\n",
        "  vect_text = vect.transform([a])\n",
        "  pred = model.predict(vect_text)\n",
        "\n",
        "  if(pred[0]=='neg'):\n",
        "    sentiment = 'Negative'\n",
        "  elif(pred[0]=='neu'):\n",
        "    sentiment = 'Neutral'\n",
        "  elif(pred[0]=='pos'):\n",
        "    sentiment = 'Positive'\n",
        "\n",
        "  return sentiment"
      ],
      "execution_count": null,
      "outputs": []
    },
    {
      "cell_type": "markdown",
      "metadata": {
        "id": "fyZ_ggYS0NDu",
        "colab_type": "text"
      },
      "source": [
        "Type your own example and use the trained Naives Bayes model to predict your text sentiment."
      ]
    },
    {
      "cell_type": "code",
      "metadata": {
        "id": "_1Ut_pnn0No-",
        "colab_type": "code",
        "colab": {
          "base_uri": "https://localhost:8080/",
          "height": 35
        },
        "outputId": "80f95124-1c74-4ba3-851f-db66f902b7d8"
      },
      "source": [
        "text = 'I am happy'\n",
        "predict_sentiment(text)"
      ],
      "execution_count": null,
      "outputs": [
        {
          "output_type": "execute_result",
          "data": {
            "application/vnd.google.colaboratory.intrinsic+json": {
              "type": "string"
            },
            "text/plain": [
              "'Positive'"
            ]
          },
          "metadata": {
            "tags": []
          },
          "execution_count": 15
        }
      ]
    },
    {
      "cell_type": "markdown",
      "metadata": {
        "id": "KdWyOTyrtiE5",
        "colab_type": "text"
      },
      "source": [
        "# F. Deployment<br>\n",
        "We will be using shadow deployment which is a type of kubernetes deployment that deploys through using containers. Both old and new algorithms will be deployed alongside each other. Users will still be using the old algorithm to get to know the newest trend but any input that from the user will be retrieved and inserted into the new algorithm too to test the new algorithm. By doing so, there will be no impact to the users since they will still be using the old algorithm only. When the newer algorithm shows results that it meets the performance requirement needed and still maintains its stability, it will roll out the new algorithm.\n"
      ]
    },
    {
      "cell_type": "markdown",
      "metadata": {
        "id": "5497xqMXtt7Q",
        "colab_type": "text"
      },
      "source": [
        "# G. Visualization with graphs"
      ]
    },
    {
      "cell_type": "markdown",
      "metadata": {
        "id": "jqyiJU1yp5T9",
        "colab_type": "text"
      },
      "source": [
        "Hardcode youtube category ID to it's corresponding category in words as the dataset didn't provide the categories in words."
      ]
    },
    {
      "cell_type": "code",
      "metadata": {
        "id": "7NolbT6Upztn",
        "colab_type": "code",
        "colab": {}
      },
      "source": [
        "# hardcoded youtube category by refering internet as all categories given by dataset are in number\n",
        "youTubeCategory=[[1,'Film & animation'],[22,'People & Blogs'],[17,'Sports'],\n",
        "                 [24,'Entertainment'],[28,'Science & Technology'],[27,'Education'],\n",
        "                 [25,'News & Politics'],[26,'Howto & Style'],[20,'Gaming'],\n",
        "                 [10,'Music'],[23,'Comedy'],[2,'Autos & Vehicles'],[15,'Pets & Animals'],\n",
        "                 [19,'Travel & Events'],[29,'Nonprofits & Activism'],[43,'Shows']]"
      ],
      "execution_count": null,
      "outputs": []
    },
    {
      "cell_type": "markdown",
      "metadata": {
        "id": "5o7U20G7qGRo",
        "colab_type": "text"
      },
      "source": [
        "**Plot horizontal bar graphs of youtube categories with average positive score, neutral and negative score from VADER analysis**"
      ]
    },
    {
      "cell_type": "code",
      "metadata": {
        "id": "UrSeMkZnqOiz",
        "colab_type": "code",
        "colab": {
          "base_uri": "https://localhost:8080/",
          "height": 910
        },
        "outputId": "980bb3a8-076b-4486-9179-9c99cc886c52"
      },
      "source": [
        "hb = test_data\n",
        "hbneg = test_data.groupby('Category ID')['neg'].mean().reset_index()\n",
        "hbpos = test_data.groupby('Category ID')['pos'].mean().reset_index()\n",
        "hbneu = test_data.groupby('Category ID')['neu'].mean().reset_index()\n",
        "hb = pd.merge(hbneg,hbpos,how='outer',on=['Category ID'])\n",
        "hb = pd.merge(hb,hbneu,how='outer',on=['Category ID'])\n",
        "\n",
        "# convert numeric category id to its corresponds words\n",
        "for x in range(len(hb)):\n",
        "  for y in range(len(hb)):\n",
        "    if(hb.iloc[x,0]==youTubeCategory[y][0]):\n",
        "      hb.iloc[x,0]=youTubeCategory[y][1]\n",
        "\n",
        "# hb.plot.barh(width=0.85)\n",
        "ind=np.arange(len(hb))\n",
        "width=0.3\n",
        "fig,ax=plt.subplots(figsize=(20,15))\n",
        "ax.set_xlabel('Score')\n",
        "ax.set_ylabel('Channel categories')\n",
        "ax.barh(ind,hb['pos'],width,label='positive',color='green')\n",
        "ax.barh(ind+width,hb['neu'],width,label='neutral',color='orange')\n",
        "ax.barh(ind+width+width,hb['neg'],width,label='negative',color='red')\n",
        "ax.set(yticks=ind+width+width,yticklabels=hb['Category ID'])\n",
        "ax.set_title('positive, negative, neutral Vader score for comments againts each YouTube categories')\n",
        "ax.legend()"
      ],
      "execution_count": null,
      "outputs": [
        {
          "output_type": "execute_result",
          "data": {
            "text/plain": [
              "<matplotlib.legend.Legend at 0x7fac3b848da0>"
            ]
          },
          "metadata": {
            "tags": []
          },
          "execution_count": 23
        },
        {
          "output_type": "display_data",
          "data": {
            "image/png": "[encoded data removed]",
            "text/plain": [
              "<Figure size 1440x1080 with 1 Axes>"
            ]
          },
          "metadata": {
            "tags": [],
            "needs_background": "light"
          }
        }
      ]
    },
    {
      "cell_type": "code",
      "metadata": {
        "id": "xM4iw38hSmNb",
        "colab_type": "code",
        "colab": {
          "base_uri": "https://localhost:8080/",
          "height": 1000
        },
        "outputId": "e7cf9e6a-78d3-4759-e32c-511f55b8d4b5"
      },
      "source": [
        "import matplotlib\n",
        "plt.rcParams['figure.figsize']=(20,15)\n",
        "plt.xticks(rotation=70)\n",
        "plt.style.use('ggplot')\n",
        "plt.xlabel('Categories')\n",
        "plt.ylabel('Compound score')\n",
        "plt.title('Comments text sentiment score for each YouTube video categories')\n",
        "plt.bar(t['Category ID'],t['Compound'])"
      ],
      "execution_count": null,
      "outputs": [
        {
          "output_type": "execute_result",
          "data": {
            "text/plain": [
              "<BarContainer object of 16 artists>"
            ]
          },
          "metadata": {
            "tags": []
          },
          "execution_count": 175
        },
        {
          "output_type": "display_data",
          "data": {
            "image/png": "[encoded data removed]",
            "text/plain": [
              "<Figure size 1440x1080 with 1 Axes>"
            ]
          },
          "metadata": {
            "tags": []
          }
        }
      ]
    },
    {
      "cell_type": "markdown",
      "metadata": {
        "id": "LhrnpRFyuBlq",
        "colab_type": "text"
      },
      "source": [
        "# H. Conclusion\n",
        "&nbsp;&nbsp;&nbsp;&nbsp;&nbsp;&nbsp;We test on VADER model to analyze YouTube video comments on training and testing data. Next, we use Multinomial Naive Bayes as text classifiers to get y_predict as the dataset did not provide an actual y_predict. FFor the next step, we use SMOTE, an oversampling method to balance our data in positive, negative, and neutral categories for y_test data. Lastly, confusion matrix is used to visualize the comparisons between VADER analysis score and multinomial naive bayes score using y_test and y_predict.<br><br>\n",
        "&nbsp;&nbsp;&nbsp;&nbsp;&nbsp;&nbsp;From the output, we can clearly see that comments from \"Nonprofits & Activism\" categories is most positively given. This means that people watching videos of \"Nonprofits & Activism\" categories give out more positive comments as compared to other video categories. Moving on, \"Howto & Style\" category video comes second with most positive comments. In contrast, \"Shows\" and \"News & Politics\" receive the most negative comments which indicates how users might not like to watch videos of those categories. Hence, we could conclude that YouTubers should create more content of \"Nonprofits & Activism\" category as viewers tend to give more positive comments on that type of video implying they prefer that type of content.<br><br>\n",
        "&nbsp;&nbsp;&nbsp;&nbsp;&nbsp;&nbsp;One advantage of our VADER model is that it is suitable for social media mining as its nature is to analyze polarity of lexicons (words). This means that VADER is quite sensitive to the strength of emotion of each word. Semantically, it determines how positive or negative each word is in a sentence. Therefore, in social media comments where words are used to express emotions of people, VADER model is extremely appropriate for testing the comments.<br><br>\n",
        "&nbsp;&nbsp;&nbsp;&nbsp;&nbsp;&nbsp;Another advantage of our analysis is that we are using comments of a video to analyze viewers' preferences on choosing content. Comments of videos are often neglected by YouTube when they are analyzing trending videos categories based on their algorithm. YouTube focusses too much on other aspect such as viewers browsing behaviours, most watched vidoes, number of subscribers, etc. However, comments of videos is also quite an important factor as it directly tells how viewers feel about a video and whether they are receiving it positively. <br><br>\n",
        "&nbsp;&nbsp;&nbsp;&nbsp;&nbsp;&nbsp;One disadvantage of using the VADER model is that it tends to overlook contextual meaning of a sentence. As VADER only calculates the score of each word, the context of the whole sentence which potentially brings other meaning could be neglected. For example, someone posting the comment “You are fat” could actually mean the opposite as he/she is just trying to be sarcastic. Therefore, in certain cases VADER model actually interpret the emotion of the comments wrongly in the opposite manner.<br><br>\n",
        "&nbsp;&nbsp;&nbsp;&nbsp;&nbsp;&nbsp;Another disadvantage of the VADER model is that it is built over English language. Hence, comments which are not in English such as Mandarin, Russian, Spanish, etc could not be analyzed using VADER analysis. This implies that we could lose substantial amount of data as all the non-English comments to be tested with the VADER model should be eliminated. Hence, in our case this could reduce the accuracy of a category if the comments for the particular category is mostly non-English.<br><br>\n",
        "&nbsp;&nbsp;&nbsp;&nbsp;&nbsp;&nbsp;Another disadvantage of our project is that we overlook other causes that might affect the decision of which content is more trending currently. For example, number of views and likes/dislikes could also implies that viewers prefer/do not prefer that kind of content. By analyzing the positivity/negativity score on each comment for video is insufficient to be 100% sure that the type of content is trending even though comments is also essentially important.<br><br>\n"
      ]
    },
    {
      "cell_type": "markdown",
      "metadata": {
        "id": "HXDJ-fYbu12Q",
        "colab_type": "text"
      },
      "source": [
        "# I. References\n",
        "Leskin, P., 2020. Youtube Is 15 Years Old. Here's A Timeline Of How Youtube Was Founded, Its Rise To Video Behemoth, And Its Biggest Controversies Along Way. [online] Business Insider.<br> Available at: <https://www.businessinsider.com/history-of-youtube-in-photos-2015-10><br> [Accessed 2 September 2020].<br><br>\n",
        "\n",
        "Omnicoreagency.com. 2020. • Youtube By The Numbers (2020): Stats, Demographics & Fun Facts. [online] Available at: <https://www.omnicoreagency.com/youtube-statistics/> [Accessed 2 September 2020].<br><br>\n",
        "\n",
        "Chi, C., 2019. Youtube Algorithm: The Constantly Updated Guide To Youtube's Updates & Changes. [online] Blog.hubspot.com. <br>Available at: <https://blog.hubspot.com/marketing/youtube-algorithm><br> [Accessed 2 September 2020].<br><br>\n",
        "\n",
        "Cooper, P., 2020. How Does The Youtube Algorithm Work? A Guide To Getting More Views. [online] Social Media Marketing & Management Dashboard.<br> Available at: <https://blog.hootsuite.com/how-the-youtube-algorithm-works/><br> [Accessed 2 September 2020]."
      ]
    },
    {
      "cell_type": "markdown",
      "metadata": {
        "id": "Pch5gh-dvQNH",
        "colab_type": "text"
      },
      "source": [
        "# J. Appendix\n",
        "Datasets available at: https://www.kaggle.com/datasnaek/youtube?select=UScomments.csv<br>\n"
      ]
    },
    {
      "cell_type": "code",
      "metadata": {
        "id": "XhV45FLgI_fI",
        "colab_type": "code",
        "colab": {}
      },
      "source": [
        ""
      ],
      "execution_count": null,
      "outputs": []
    }
  ]
}